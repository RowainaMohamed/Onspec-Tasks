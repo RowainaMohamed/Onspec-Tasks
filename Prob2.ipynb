{
  "nbformat": 4,
  "nbformat_minor": 0,
  "metadata": {
    "colab": {
      "provenance": [],
      "include_colab_link": true
    },
    "kernelspec": {
      "name": "python3",
      "display_name": "Python 3"
    },
    "language_info": {
      "name": "python"
    }
  },
  "cells": [
    {
      "cell_type": "markdown",
      "metadata": {
        "id": "view-in-github",
        "colab_type": "text"
      },
      "source": [
        "<a href=\"https://colab.research.google.com/github/RowainaMohamed/Onspec-Tasks/blob/main/Prob2.ipynb\" target=\"_parent\"><img src=\"https://colab.research.google.com/assets/colab-badge.svg\" alt=\"Open In Colab\"/></a>"
      ]
    },
    {
      "cell_type": "markdown",
      "source": [
        "**Deleting Nth Node using Recursive Approach :**\n",
        "\n",
        "1) Create a dummy node and create a link from dummy node to head node. i.e, dummy->next = head \n",
        "\n",
        "2) Then we will use the recursion stack to keep track of elements that are being pushed in recursion calls.\n",
        "\n",
        "3) While popping the elements from recursion stack, we will decrement the N(position of target node from the end of linked list) i.e, N = N-1.\n",
        "\n",
        "4) When we reach (N==0) that means we have reached at the target node,\n",
        "\n",
        "5) But here is the catch, to delete the target node we require its previous node,\n",
        "\n",
        "6) So we will now stop when (N==-1) i.e, we reached the previous node.\n",
        "\n",
        "7) Now it is very simple to delete the node by using previousNode->next = previousNode->next->next."
      ],
      "metadata": {
        "id": "DX_HqIy7IXwy"
      }
    },
    {
      "cell_type": "code",
      "source": [
        "class Node:\n",
        "    def __init__(self, data = 0, next=None):\n",
        "        self.data = data\n",
        "        self.next = next\n",
        " \n",
        " \n",
        "class LinkedList:\n",
        "    def __init__(self):\n",
        "        self.head = None\n",
        " \n",
        "    def push(self, data):\n",
        "        new_node = Node(data)\n",
        "        if data in range(0, 101):\n",
        "          new_node.next = self.head\n",
        "          self.head = new_node\n",
        "        else:\n",
        "          print('{} is out of range'.format(data))\n",
        "\n",
        "    def display(self):\n",
        "        temp = self.head\n",
        "        while(temp != None):\n",
        "            print(temp.data, end = ' ')\n",
        "            temp = temp.next\n",
        "\n",
        "    def NthNodeRemoval(self, head: Node, n: int) -> Node:\n",
        "      dummy = Node(0, head)\n",
        "      left = dummy\n",
        "      right = head\n",
        "      if n <= 30:\n",
        "        while n > 0 and right:         \n",
        "          right = right.next\n",
        "          n-=1\n",
        "        while right:\n",
        "          left = left.next\n",
        "          right = right.next\n",
        "      else:\n",
        "        print('\\nn is out of range')\n",
        "     \n",
        "      left.next = left.next.next\n",
        "      return dummy.next\n",
        "\n",
        "    def GUI(self):\n",
        "      numberofnodes = int(input('Please enter the lenght of this linkedlist: '))\n",
        "      NR = numberofnodes\n",
        "      if 0 < numberofnodes <= 30:\n",
        "        l = LinkedList()\n",
        "        while numberofnodes != 0:\n",
        "          R = int(input(\"Please enter the value you want: \"))\n",
        "          if R > 100:\n",
        "            numberofnodes += 1\n",
        "          l.push(R)\n",
        "          numberofnodes -= 1\n",
        "        print('List Before deleteing')\n",
        "        l.display()\n",
        "        remover = int(input(\"\\nPlease enter the value you want to delete: \"))\n",
        "        if 0 < remover <= NR:\n",
        "          l.NthNodeRemoval(l.head, remover)\n",
        "          print('List After deleteing')\n",
        "          l.display()\n",
        "        else: \n",
        "          print('Length is not correct or it is equal to zero,\\nHere is the list without changing')\n",
        "          l.display()\n",
        "      else: \n",
        "        print('Max number is 30 or the number you entered is equal to 0')\n",
        "\n",
        "\n",
        "l = LinkedList()\n",
        "l.GUI()\n"
      ],
      "metadata": {
        "id": "XEm2qjh-SwtK"
      },
      "execution_count": null,
      "outputs": []
    }
  ]
}