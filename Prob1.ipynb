{
  "nbformat": 4,
  "nbformat_minor": 0,
  "metadata": {
    "colab": {
      "provenance": [],
      "authorship_tag": "ABX9TyP1tOwDwiJNdlTTE3mkP63R",
      "include_colab_link": true
    },
    "kernelspec": {
      "name": "python3",
      "display_name": "Python 3"
    },
    "language_info": {
      "name": "python"
    }
  },
  "cells": [
    {
      "cell_type": "markdown",
      "metadata": {
        "id": "view-in-github",
        "colab_type": "text"
      },
      "source": [
        "<a href=\"https://colab.research.google.com/github/RowainaMohamed/Onspec-Tasks/blob/main/Prob1.ipynb\" target=\"_parent\"><img src=\"https://colab.research.google.com/assets/colab-badge.svg\" alt=\"Open In Colab\"/></a>"
      ]
    },
    {
      "cell_type": "markdown",
      "source": [
        "Given an array of integers nums and an integer target, return indices of the two\n",
        "numbers such that they add up to target.\n",
        "You may assume that each input would have exactly one solution, and you may not use\n",
        "the same element twice. \n",
        "\n",
        "You can return the answer in any order.\n",
        "\n",
        "Example 1:\n",
        "Input: nums = [2,7,11,15], target = 9\n",
        "Output: [0,1]\n",
        "\n",
        "Explanation: Because nums[0] + nums[1] == 9, we return [0, 1].\n",
        "\n",
        "Input: nums = [2,7,11,15], target = 9\n",
        "\n",
        "Output: [0,1]\n",
        "\n",
        "Explanation: Because nums[0] + nums[1] == 9, we return [0, 1]."
      ],
      "metadata": {
        "id": "b_I5xbLuGMfH"
      }
    },
    {
      "cell_type": "markdown",
      "source": [
        "input: array - no size limit\n",
        "\n",
        "output: array - 2 elements\n",
        "\n",
        "'''Naive approach:\n",
        "\n",
        "Nested loops that takes one index and add it to other indices and see if it's equal to the target'''\n",
        "\n",
        "time complixity = O(n^2)"
      ],
      "metadata": {
        "id": "b3BKSadTHm8M"
      }
    },
    {
      "cell_type": "code",
      "source": [
        "def addUp(nums, target):\n",
        "  for i in range(len(nums) - 1):\n",
        "    for j in range(i + 1, len(nums)):\n",
        "      if nums[i] + nums[j] == target:\n",
        "        print([i, j])\n",
        "  "
      ],
      "metadata": {
        "id": "yJOmtxZI-VmM"
      },
      "execution_count": 1,
      "outputs": []
    },
    {
      "cell_type": "code",
      "source": [
        "addUp([2, 7, 5, 9], 9)"
      ],
      "metadata": {
        "colab": {
          "base_uri": "https://localhost:8080/"
        },
        "id": "L9N3dvLjAWJE",
        "outputId": "53dbba9e-3400-4682-a7ec-e62cc314ada8"
      },
      "execution_count": 2,
      "outputs": [
        {
          "output_type": "stream",
          "name": "stdout",
          "text": [
            "[0, 1]\n"
          ]
        }
      ]
    },
    {
      "cell_type": "markdown",
      "source": [
        "Another approach using python hashtabels (Dictionaries) and it would be a better approach as it decreases the time complixty and would be readable and simpler"
      ],
      "metadata": {
        "id": "HxxwjE5EG-Zg"
      }
    },
    {
      "cell_type": "code",
      "source": [
        "def addUp2(nums, target):\n",
        "  dic = {}\n",
        "  for i, integer in enumerate(nums):\n",
        "    if target - integer in dic:\n",
        "      return [dic[target - integer], i]\n",
        "    dic[i] = integer"
      ],
      "metadata": {
        "id": "OcPdz0gTH1fu"
      },
      "execution_count": null,
      "outputs": []
    },
    {
      "cell_type": "code",
      "source": [
        "addUp2((0, 2, 0, 9), 0)"
      ],
      "metadata": {
        "colab": {
          "base_uri": "https://localhost:8080/"
        },
        "id": "rQP2v4PiM30-",
        "outputId": "c60c0cd2-53d0-4ea8-ebd3-92dcc09f081d"
      },
      "execution_count": null,
      "outputs": [
        {
          "output_type": "execute_result",
          "data": {
            "text/plain": [
              "[0, 2]"
            ]
          },
          "metadata": {},
          "execution_count": 56
        }
      ]
    }
  ]
}